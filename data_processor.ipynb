{
  "nbformat": 4,
  "nbformat_minor": 0,
  "metadata": {
    "colab": {
      "name": "data_processor.py",
      "provenance": [],
      "collapsed_sections": [],
      "authorship_tag": "ABX9TyOqGNYykDa5LVcx+JU2xneG",
      "include_colab_link": true
    },
    "kernelspec": {
      "name": "python3",
      "display_name": "Python 3"
    },
    "language_info": {
      "name": "python"
    }
  },
  "cells": [
    {
      "cell_type": "markdown",
      "metadata": {
        "id": "view-in-github",
        "colab_type": "text"
      },
      "source": [
        "<a href=\"https://colab.research.google.com/github/lfgranellosouza/Docker_Deployment/blob/main/data_processor_py.ipynb\" target=\"_parent\"><img src=\"https://colab.research.google.com/assets/colab-badge.svg\" alt=\"Open In Colab\"/></a>"
      ]
    },
    {
      "cell_type": "code",
      "execution_count": null,
      "metadata": {
        "id": "uuSUG66mqVKU"
      },
      "outputs": [],
      "source": [
        "from sklearn.feature_extraction.text import CountVectorizer\n",
        "from sklearn.model_selection import train_test_split\n",
        "import pandas as pd\n",
        "\n",
        "def prepare_data(path_to_data, encoding= 'latin-1'):\n",
        "  '''\n",
        "    @params:\n",
        "      - path_to_data: caminho da pasta\n",
        "      - encoding: formato de codificação de texto utilizado\n",
        "\n",
        "    @return\n",
        "      - dicionário com as seguintes chaves:\n",
        "        - text: a mensagem final de texto\n",
        "        - label: etiqueta associada à mensagem\n",
        "  '''\n",
        "  data = pd.read_csv(path_to_date, encoding= encoding)\n",
        "\n",
        "  data['label'] = data['v1'].map({'ham': 0, 'spam': 1})\n",
        "  X = data['v2']\n",
        "  y = data['label']\n",
        "\n",
        "  return {'text': X, 'label': y}\n",
        "\n",
        "def create_train_test_data(X, y, test_size_pct, random_state):\n",
        "  '''\n",
        "    @params:\n",
        "      - X: colunas para treinamento\n",
        "      - y: etiquetas\n",
        "      - test_size_pct: percentual de tamanho para teste\n",
        "      - random_state: inicialização aleatória\n",
        "    \n",
        "    @return\n",
        "      - dicionário contendo dados de treinamento, de teste e etiquetas \n",
        "      correspondentes\n",
        "  '''\n",
        "  cv = CountVectorizer()\n",
        "  X = cv.fit_transform(X)\n",
        "  X_train, X_test, y_train, y_test = train_test_split(X, y,\n",
        "                                                      test_size_pct= test_size,\n",
        "                                                      random_state= random_state)\n",
        "  return {'X_train': X_train, 'X_test': X_test,\n",
        "          'y_train': y_train, 'y_test': y_test}, cv"
      ]
    }
  ]
}
